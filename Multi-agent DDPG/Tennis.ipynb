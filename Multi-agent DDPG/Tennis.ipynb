{
 "cells": [
  {
   "cell_type": "markdown",
   "metadata": {},
   "source": [
    "# Collaboration and Competition\n",
    "\n",
    "\n",
    "### 1. Start the Environment\n"
   ]
  },
  {
   "cell_type": "code",
   "execution_count": 1,
   "metadata": {},
   "outputs": [],
   "source": [
    "from unityagents import UnityEnvironment\n",
    "import numpy as np"
   ]
  },
  {
   "cell_type": "markdown",
   "metadata": {},
   "source": [
    "**_Before running the code cell below_**, change the `file_name` parameter to match the location of the Unity environment that you downloaded.\n",
    "\n",
    "- **Mac**: `\"path/to/Tennis.app\"`\n",
    "- **Windows** (x86): `\"path/to/Tennis_Windows_x86/Tennis.exe\"`\n",
    "- **Windows** (x86_64): `\"path/to/Tennis_Windows_x86_64/Tennis.exe\"`\n",
    "- **Linux** (x86): `\"path/to/Tennis_Linux/Tennis.x86\"`\n",
    "- **Linux** (x86_64): `\"path/to/Tennis_Linux/Tennis.x86_64\"`\n",
    "- **Linux** (x86, headless): `\"path/to/Tennis_Linux_NoVis/Tennis.x86\"`\n",
    "- **Linux** (x86_64, headless): `\"path/to/Tennis_Linux_NoVis/Tennis.x86_64\"`\n",
    "\n",
    "For instance, if you are using a Mac, then you downloaded `Tennis.app`.  If this file is in the same folder as the notebook, then the line below should appear as follows:\n",
    "```\n",
    "env = UnityEnvironment(file_name=\"Tennis.app\")\n",
    "```"
   ]
  },
  {
   "cell_type": "code",
   "execution_count": 2,
   "metadata": {},
   "outputs": [
    {
     "name": "stderr",
     "output_type": "stream",
     "text": [
      "INFO:unityagents:\n",
      "'Academy' started successfully!\n",
      "Unity Academy name: Academy\n",
      "        Number of Brains: 1\n",
      "        Number of External Brains : 1\n",
      "        Lesson number : 0\n",
      "        Reset Parameters :\n",
      "\t\t\n",
      "Unity brain name: TennisBrain\n",
      "        Number of Visual Observations (per agent): 0\n",
      "        Vector Observation space type: continuous\n",
      "        Vector Observation space size (per agent): 8\n",
      "        Number of stacked Vector Observation: 3\n",
      "        Vector Action space type: continuous\n",
      "        Vector Action space size (per agent): 2\n",
      "        Vector Action descriptions: , \n"
     ]
    }
   ],
   "source": [
    "env = UnityEnvironment(file_name=\"./Tennis_Windows_x86_64/Tennis.exe\")"
   ]
  },
  {
   "cell_type": "markdown",
   "metadata": {},
   "source": [
    "Environments contain **_brains_** which are responsible for deciding the actions of their associated agents. Here we check for the first brain available, and set it as the default brain we will be controlling from Python."
   ]
  },
  {
   "cell_type": "code",
   "execution_count": 3,
   "metadata": {},
   "outputs": [],
   "source": [
    "# get the default brain\n",
    "brain_name = env.brain_names[0]\n",
    "brain = env.brains[brain_name]"
   ]
  },
  {
   "cell_type": "markdown",
   "metadata": {},
   "source": [
    "### 2. Examine the State and Action Spaces\n",
    "\n",
    "In this environment, two agents control rackets to bounce a ball over a net. If an agent hits the ball over the net, it receives a reward of +0.1.  If an agent lets a ball hit the ground or hits the ball out of bounds, it receives a reward of -0.01.  Thus, the goal of each agent is to keep the ball in play.\n",
    "\n",
    "The observation space consists of 8 variables corresponding to the position and velocity of the ball and racket. Two continuous actions are available, corresponding to movement toward (or away from) the net, and jumping. \n",
    "\n",
    "Run the code cell below to print some information about the environment."
   ]
  },
  {
   "cell_type": "code",
   "execution_count": 4,
   "metadata": {},
   "outputs": [
    {
     "name": "stdout",
     "output_type": "stream",
     "text": [
      "Number of agents: 2\n",
      "Size of each action: 2\n",
      "There are 2 agents. Each observes a state with length: 24\n",
      "The state for the first agent looks like: [ 0.          0.          0.          0.          0.          0.\n",
      "  0.          0.          0.          0.          0.          0.\n",
      "  0.          0.          0.          0.         -6.65278625 -1.5\n",
      " -0.          0.          6.83172083  6.         -0.          0.        ]\n"
     ]
    }
   ],
   "source": [
    "# reset the environment\n",
    "env_info = env.reset(train_mode=True)[brain_name]\n",
    "\n",
    "# number of agents \n",
    "num_agents = len(env_info.agents)\n",
    "print('Number of agents:', num_agents)\n",
    "\n",
    "# size of each action\n",
    "action_size = brain.vector_action_space_size\n",
    "print('Size of each action:', action_size)\n",
    "\n",
    "# examine the state space \n",
    "states = env_info.vector_observations\n",
    "state_size = states.shape[1]\n",
    "print('There are {} agents. Each observes a state with length: {}'.format(states.shape[0], state_size))\n",
    "print('The state for the first agent looks like:', states[0])"
   ]
  },
  {
   "cell_type": "markdown",
   "metadata": {},
   "source": [
    "### 3. Take Random Actions in the Environment\n",
    "The cell below shows how to use the Python API to control the agents and receive feedback from the environment. Once this cell is executed, you will watch the agents' performance, if they select actions at random with each time step.  A window should pop up that allows you to observe the agents.\n",
    "\n"
   ]
  },
  {
   "cell_type": "code",
   "execution_count": 5,
   "metadata": {},
   "outputs": [],
   "source": [
    "# for i in range(1, 6):                                      # play game for 5 episodes\n",
    "#     env_info = env.reset(train_mode=False)[brain_name]     # reset the environment    \n",
    "#     states = env_info.vector_observations                  # get the current state (for each agent)\n",
    "#     scores = np.zeros(num_agents)                          # initialize the score (for each agent)\n",
    "#     while True:\n",
    "#         actions = np.random.randn(num_agents, action_size) # select an action (for each agent)\n",
    "#         actions = np.clip(actions, -1, 1)                  # all actions between -1 and 1\n",
    "#         print('actions',actions )\n",
    "#         env_info = env.step(actions)[brain_name]           # send all actions to tne environment\n",
    "#         next_states = env_info.vector_observations         # get next state (for each agent)\n",
    "#         rewards = env_info.rewards                         # get reward (for each agent)\n",
    "#         dones = env_info.local_done                        # see if episode finished\n",
    "#         scores += env_info.rewards                         # update the score (for each agent)\n",
    "#         states = next_states                               # roll over states to next time step\n",
    "#         print('states',next_states )\n",
    "#         print('rewards',rewards )\n",
    "#         print('dones',dones )\n",
    "        \n",
    "\n",
    "#         if np.any(dones):                                  # exit loop if episode finished\n",
    "#             break\n",
    "#     print('Score (max over agents) from episode {}: {}'.format(i, np.max(scores)))"
   ]
  },
  {
   "cell_type": "markdown",
   "metadata": {},
   "source": [
    "When finished, you can close the environment."
   ]
  },
  {
   "cell_type": "code",
   "execution_count": 6,
   "metadata": {},
   "outputs": [],
   "source": [
    "#  env.close()"
   ]
  },
  {
   "cell_type": "markdown",
   "metadata": {},
   "source": [
    "### 4. Training The Agents"
   ]
  },
  {
   "cell_type": "code",
   "execution_count": 7,
   "metadata": {},
   "outputs": [
    {
     "name": "stdout",
     "output_type": "stream",
     "text": [
      "meta_agent.state_size, action_size,num_agents,seed_agent_idx 24 2 2 5 0\n",
      "Critic,seed 5\n",
      "Critic,seed 5\n",
      "Agent: 0 \n",
      " Actor-Critic \n",
      " Actor(\n",
      "  (fc1): Linear(in_features=24, out_features=512, bias=True)\n",
      "  (bn1): BatchNorm1d(512, eps=1e-05, momentum=0.1, affine=True, track_running_stats=True)\n",
      "  (fc2): Linear(in_features=512, out_features=256, bias=True)\n",
      "  (fc3): Linear(in_features=256, out_features=2, bias=True)\n",
      ") Critic(\n",
      "  (fc1): Linear(in_features=52, out_features=512, bias=True)\n",
      "  (bn1): BatchNorm1d(512, eps=1e-05, momentum=0.1, affine=True, track_running_stats=True)\n",
      "  (fc2): Linear(in_features=512, out_features=256, bias=True)\n",
      "  (fc3): Linear(in_features=256, out_features=1, bias=True)\n",
      ")\n",
      "meta_agent.state_size, action_size,num_agents,seed_agent_idx 24 2 2 5 1\n",
      "Critic,seed 5\n",
      "Critic,seed 5\n",
      "Agent: 1 \n",
      " Actor-Critic \n",
      " Actor(\n",
      "  (fc1): Linear(in_features=24, out_features=512, bias=True)\n",
      "  (bn1): BatchNorm1d(512, eps=1e-05, momentum=0.1, affine=True, track_running_stats=True)\n",
      "  (fc2): Linear(in_features=512, out_features=256, bias=True)\n",
      "  (fc3): Linear(in_features=256, out_features=2, bias=True)\n",
      ") Critic(\n",
      "  (fc1): Linear(in_features=52, out_features=512, bias=True)\n",
      "  (bn1): BatchNorm1d(512, eps=1e-05, momentum=0.1, affine=True, track_running_stats=True)\n",
      "  (fc2): Linear(in_features=512, out_features=256, bias=True)\n",
      "  (fc3): Linear(in_features=256, out_features=1, bias=True)\n",
      ")\n"
     ]
    }
   ],
   "source": [
    "from  collections  import deque\n",
    "from itertools import count\n",
    "import torch\n",
    "import time\n",
    "import matplotlib.pyplot as plt\n",
    "from ddpg_agent import DDPGAgent\n",
    "from ddpg_network import Actor, Critic\n",
    "from multi_agent_ddpg import MADDPG\n",
    "\n",
    "random_seed=5\n",
    "meta_agent = MADDPG(num_agents=num_agents,state_size=state_size, action_size=action_size,random_seed=random_seed)"
   ]
  },
  {
   "cell_type": "code",
   "execution_count": 8,
   "metadata": {},
   "outputs": [],
   "source": [
    "def train_maddpg(n_episodes=10000, max_t=1000):\n",
    "    avg_score = []          \n",
    "    scores=[] # list containing scores from each episode\n",
    "    scores_window = deque(maxlen=100)\n",
    "    for i_episode in range(1, n_episodes+1):\n",
    "        env_info = env.reset(train_mode=True)[brain_name]\n",
    "        meta_agent.reset_agents()\n",
    "        states = env_info.vector_observations\n",
    "        score = np.zeros(num_agents)   \n",
    "        for t in range(max_t):\n",
    "            actions = meta_agent.act(states, add_noise=True)\n",
    "            #Take action and observe reward and next state\n",
    "            env_info = env.step(actions)[brain_name]        # send the actions to the environment\n",
    "            next_states = env_info.vector_observations      # get the next states\n",
    "            rewards = env_info.rewards                      # get the rewards\n",
    "            dones = env_info.local_done                     # see if episode has finished               \n",
    "            #Store experience tuple (s,a,s',r) in replay memory and learn from minibatch\n",
    "            meta_agent.step(states, actions, rewards, next_states, dones, i_episode)\n",
    "            states = next_states\n",
    "            score += rewards\n",
    "            if np.any(dones):\n",
    "                break \n",
    "        scores_window.append(np.max(score)) # episode score is max of the agents\n",
    "        scores.append(score)              # save most recent score\n",
    "        avg_score= np.mean(scores_window)          \n",
    "        print('\\rEpisode {}\\tAverage Score: {:.2f}'.format(i_episode, np.mean(scores_window)), end=\"\")\n",
    "        if i_episode%100==0:\n",
    "            print('\\n Episode {}\\tAverage Score: {:.2f}'.format(i_episode, np.mean(scores_window)), end=\"\")\n",
    "            meta_agent.save_checkpoint()\n",
    "        if avg_score>0.5:\n",
    "            print('\\n Episode {}\\tAverage Score: {:.2f}'.format(i_episode, np.mean(scores_window)), end=\"\")\n",
    "            print('Environment solved!')\n",
    "            meta_agent.save_checkpoint()\n",
    "            return scores,avg_score\n",
    "    return scores,avg_score"
   ]
  },
  {
   "cell_type": "code",
   "execution_count": 9,
   "metadata": {
    "scrolled": false
   },
   "outputs": [
    {
     "name": "stdout",
     "output_type": "stream",
     "text": [
      "Episode 100\tAverage Score: 0.00\n",
      "Episode 200\tAverage Score: 0.000\n",
      "Episode 300\tAverage Score: 0.000\n",
      "Episode 400\tAverage Score: 0.000\n",
      "Episode 500\tAverage Score: 0.010\n",
      "Episode 600\tAverage Score: 0.021\n",
      "Episode 700\tAverage Score: 0.012\n",
      "Episode 800\tAverage Score: 0.001\n",
      "Episode 900\tAverage Score: 0.000\n",
      "Episode 1000\tAverage Score: 0.01\n",
      "Episode 1100\tAverage Score: 0.011\n",
      "Episode 1200\tAverage Score: 0.041\n",
      "Episode 1300\tAverage Score: 0.054\n",
      "Episode 1400\tAverage Score: 0.045\n",
      "Episode 1500\tAverage Score: 0.024\n",
      "Episode 1600\tAverage Score: 0.022\n",
      "Episode 1700\tAverage Score: 0.042\n",
      "Episode 1800\tAverage Score: 0.044\n",
      "Episode 1900\tAverage Score: 0.024\n",
      "Episode 2000\tAverage Score: 0.002\n",
      "Episode 2100\tAverage Score: 0.020\n",
      "Episode 2200\tAverage Score: 0.022\n",
      "Episode 2300\tAverage Score: 0.022\n",
      "Episode 2400\tAverage Score: 0.022\n",
      "Episode 2500\tAverage Score: 0.072\n",
      "Episode 2600\tAverage Score: 0.077\n",
      "Episode 2700\tAverage Score: 0.097\n",
      "Episode 2800\tAverage Score: 0.099\n",
      "Episode 2900\tAverage Score: 0.099\n",
      "Episode 3000\tAverage Score: 0.109\n",
      "Episode 3100\tAverage Score: 0.100\n",
      "Episode 3200\tAverage Score: 0.100\n",
      "Episode 3300\tAverage Score: 0.100\n",
      "Episode 3400\tAverage Score: 0.100\n",
      "Episode 3500\tAverage Score: 0.100\n",
      "Episode 3600\tAverage Score: 0.110\n",
      "Episode 3700\tAverage Score: 0.141\n",
      "Episode 3800\tAverage Score: 0.124\n",
      "Episode 3900\tAverage Score: 0.162\n",
      "Episode 4000\tAverage Score: 0.126\n",
      "Episode 4100\tAverage Score: 0.132\n",
      "Episode 4200\tAverage Score: 0.113\n",
      "Episode 4300\tAverage Score: 0.141\n",
      "Episode 4400\tAverage Score: 0.134\n",
      "Episode 4500\tAverage Score: 0.223\n",
      "Episode 4600\tAverage Score: 0.452\n",
      "Episode 4608\tAverage Score: 0.515\n",
      " Episode 4608\tAverage Score: 0.51Environment solved!\n",
      "Wall time: 1h 35min 54s\n"
     ]
    }
   ],
   "source": [
    "%%time\n",
    "scores,avg_score = train_maddpg(10000,2000)\n",
    "env.close()"
   ]
  },
  {
   "cell_type": "code",
   "execution_count": 10,
   "metadata": {},
   "outputs": [],
   "source": [
    "#Save scores\n",
    "np.save('MADDPG_scores.npy', np.array(scores))"
   ]
  },
  {
   "cell_type": "code",
   "execution_count": 11,
   "metadata": {},
   "outputs": [
    {
     "data": {
      "image/png": "[encoded data removed]",
      "text/plain": [
       "<Figure size 864x432 with 1 Axes>"
      ]
     },
     "metadata": {
      "needs_background": "light"
     },
     "output_type": "display_data"
    }
   ],
   "source": [
    "# scores = np.load('MADDPG_scores.npy')\n",
    "scores=np.asarray(scores)\n",
    "\n",
    "plt.figure(figsize=(12,6))\n",
    "plt.rc('font', size=20)          # controls default text sizes\n",
    "plt.rc('axes', titlesize=20)     # fontsize of the axes title\n",
    "plt.rc('axes', labelsize=20)    # fontsize of the x and y labels\n",
    "plt.rc('xtick', labelsize=20)    # fontsize of the tick labels\n",
    "plt.rc('ytick', labelsize=20)    # fontsize of the tick labels\n",
    "plt.rc('legend', fontsize=20)    # legend fontsize\n",
    "plt.rc('figure', titlesize=20)  # fontsize of the figure title\n",
    "plt.plot(scores[:,0],'b.')\n",
    "plt.plot(scores[:,1],'r')\n",
    "plt.plot(np.amax(scores,axis=1),'k')\n",
    "plt.grid()\n",
    "plt.xlabel('Episode')\n",
    "plt.ylabel('Score')\n",
    "plt.title('MADDPG')\n",
    "plt.show()"
   ]
  },
  {
   "cell_type": "code",
   "execution_count": null,
   "metadata": {},
   "outputs": [],
   "source": []
  },
  {
   "cell_type": "code",
   "execution_count": null,
   "metadata": {},
   "outputs": [],
   "source": []
  }
 ],
 "metadata": {
  "kernelspec": {
   "display_name": "Python 3",
   "language": "python",
   "name": "python3"
  },
  "language_info": {
   "codemirror_mode": {
    "name": "ipython",
    "version": 3
   },
   "file_extension": ".py",
   "mimetype": "text/x-python",
   "name": "python",
   "nbconvert_exporter": "python",
   "pygments_lexer": "ipython3",
   "version": "3.6.10"
  }
 },
 "nbformat": 4,
 "nbformat_minor": 2
}
