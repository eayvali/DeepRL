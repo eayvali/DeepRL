{
 "cells": [
  {
   "cell_type": "code",
   "execution_count": null,
   "metadata": {},
   "outputs": [],
   "source": [
    "\n",
    "import numpy as np\n",
    "import matplotlib.pyplot as plt\n",
    "%matplotlib inline\n"
   ]
  },
  {
   "cell_type": "code",
   "execution_count": null,
   "metadata": {},
   "outputs": [],
   "source": [
    "def plot_training_scores(file_name, title, lim):\n",
    "    scores = np.load(file_name)\n",
    "    means = []\n",
    "    for i in range(100,scores.shape[0]):\n",
    "        means.append((i,np.mean(scores[i-100:i])))\n",
    "    means = np.array(means)\n",
    "    plt.figure(figsize=(12,6))\n",
    "    plt.rc('font', size=20)          # controls default text sizes\n",
    "    plt.rc('axes', titlesize=20)     # fontsize of the axes title\n",
    "    plt.rc('axes', labelsize=20)    # fontsize of the x and y labels\n",
    "    plt.rc('xtick', labelsize=20)    # fontsize of the tick labels\n",
    "    plt.rc('ytick', labelsize=20)    # fontsize of the tick labels\n",
    "    plt.rc('legend', fontsize=20)    # legend fontsize\n",
    "    plt.rc('figure', titlesize=20)  # fontsize of the figure title\n",
    "    plt.xlim(0,lim)\n",
    "    plt.ylim(-5,25)\n",
    "    plt.plot(scores)\n",
    "    plt.plot(means[:,0],means[:,1],'r')\n",
    "    plt.grid()\n",
    "    plt.xlabel('Episode')\n",
    "    plt.ylabel('Score')\n",
    "    plt.title(title)\n"
   ]
  },
  {
   "cell_type": "code",
   "execution_count": null,
   "metadata": {},
   "outputs": [],
   "source": [
    "plot_training_scores('DQN_scores.npy','DQN',1000)\n",
    "plot_training_scores('Double_DQN_scores.npy','DDQN',1500)\n",
    "plot_training_scores('Dueling_DDQN_scores.npy','Dueling-DDQN',1000)\n"
   ]
  },
  {
   "cell_type": "code",
   "execution_count": null,
   "metadata": {},
   "outputs": [],
   "source": [
    "from agent import Agent\n",
    "import torch\n",
    "import time\n",
    "from unityagents import UnityEnvironment\n",
    "\n",
    "env = UnityEnvironment(file_name=\"Banana.exe\")\n",
    "\n",
    "test_alg='double_deep_Q_learning'\n",
    "test_network_path='Double_DQN_checkpoint.pth'\n",
    "\n",
    "# test_alg='dueling_deep_Q_learning'\n",
    "# test_network_path='Dueling_DDQN_checkpoint.pth'\n",
    "\n",
    "# test_alg='deep_Q_learning'\n",
    "# test_network_path='DQN_checkpoint.pth'\n",
    "\n",
    "# get the default brain\n",
    "brain_name = env.brain_names[0]\n",
    "brain = env.brains[brain_name]\n",
    "\n",
    "agent = Agent(state_size=37, action_size=4, seed=0, learning_alg=test_alg)\n",
    "agent.qnetwork_local.load_state_dict(torch.load(test_network_path))\n"
   ]
  },
  {
   "cell_type": "code",
   "execution_count": null,
   "metadata": {},
   "outputs": [],
   "source": [
    "n_episodes = 10\n",
    "max_t =100000\n",
    "\n",
    "eps = 0.\n",
    "\n",
    "for i_episode in range(1, n_episodes+1):\n",
    "    env_info = env.reset(train_mode=False)[brain_name]\n",
    "    state = env_info.vector_observations[0]\n",
    "    score = 0\n",
    "    for t in range(max_t):\n",
    "        action = agent.act(state, eps)\n",
    "        env_info = env.step(action)[brain_name]\n",
    "        next_state, reward, done = env_info.vector_observations[0], \\\n",
    "                                   env_info.rewards[0], \\\n",
    "                                   1. if env_info.local_done[0] == True else 0.\n",
    "        state = next_state\n",
    "        score += reward\n",
    "        print('\\rEpisode {}\\tScore: {:.2f}'.format(i_episode, score), end=\"\")\n",
    "        time.sleep(0.05)  \n",
    "        if done == 1.:\n",
    "            break\n",
    "\n",
    "env.close()   \n"
   ]
  },
  {
   "cell_type": "code",
   "execution_count": null,
   "metadata": {},
   "outputs": [],
   "source": []
  }
 ],
 "metadata": {
  "kernelspec": {
   "display_name": "deeprl",
   "language": "python",
   "name": "deeprl"
  },
  "language_info": {
   "codemirror_mode": {
    "name": "ipython",
    "version": 3
   },
   "file_extension": ".py",
   "mimetype": "text/x-python",
   "name": "python",
   "nbconvert_exporter": "python",
   "pygments_lexer": "ipython3",
   "version": "3.6.10"
  }
 },
 "nbformat": 4,
 "nbformat_minor": 4
}
